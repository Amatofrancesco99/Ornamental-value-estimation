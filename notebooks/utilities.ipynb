{
 "cells": [
  {
   "cell_type": "markdown",
   "id": "d8025a4d",
   "metadata": {},
   "source": [
    "## This notebook contains different functions in order to achieve specific goals"
   ]
  },
  {
   "cell_type": "markdown",
   "id": "6f943b0e-c13d-4064-887c-3b2433eb8c05",
   "metadata": {},
   "source": [
    "### Convert the dataset into json format:"
   ]
  },
  {
   "cell_type": "code",
   "execution_count": 1,
   "id": "69dafacf-1a9a-4384-a979-4b8f2c3d3341",
   "metadata": {},
   "outputs": [],
   "source": [
    "def row_to_json(row):\n",
    "    \n",
    "    \"\"\"\n",
    "    Converts a row of this dataset into a json object with a variable number of fields.\n",
    "    \"\"\"\n",
    "    li = []\n",
    "    res = \"{\"\n",
    "    \n",
    "    for key in row.keys():\n",
    "        \n",
    "        val = row[key]\n",
    "        \n",
    "        if val == \"X\":\n",
    "            val = 'true'\n",
    "            \n",
    "        try:\n",
    "            int(val)\n",
    "            float(val)\n",
    "        except:\n",
    "            if val!='true':\n",
    "                val = f\"\\\"{val}\\\"\"\n",
    "        \n",
    "        li.append((key, val))\n",
    "    \n",
    "    for tup in li:\n",
    "        res+=f\"\\\"{tup[0]}\\\" : {tup[1]}, \"\n",
    "    \n",
    "    res = res.strip(\", \")\n",
    "    res+=\"}\"\n",
    "    return res"
   ]
  },
  {
   "cell_type": "code",
   "execution_count": 2,
   "id": "b7223f9a",
   "metadata": {},
   "outputs": [],
   "source": [
    "def dataframe_to_json_array(df):\n",
    "    \"\"\"\n",
    "    Convert a dataframe into a jsonarray.\n",
    "    Each row of the df is treated as a json object.\n",
    "    \"\"\"\n",
    "    json_objects = df.apply(lambda x : row_to_json(x), axis=1)\n",
    "    json_array = \"{ \\\"Plants\\\" : [ \"\n",
    "    for obj in json_objects:\n",
    "        json_array+=obj+\", \"\n",
    "    json_array = json_array.strip(\", \")\n",
    "    json_array+=\" ]}\"\n",
    "    return json_array"
   ]
  },
  {
   "cell_type": "markdown",
   "id": "c544ad6b",
   "metadata": {},
   "source": [
    "### Obtain ornamental score"
   ]
  },
  {
   "cell_type": "code",
   "execution_count": 3,
   "id": "4aafa38c",
   "metadata": {},
   "outputs": [],
   "source": [
    "def get_n_months_between_to_months_name(name1, name2):  \n",
    "    \n",
    "    months = [\"Gennaio\", \"Febbraio\", \"Marzo\", \"Aprile\", \"Maggio\", \"Giugno\", \"Luglio\", \"Agosto\", \"Settembre\", \"Ottobre\", \"Novembre\", \"Dicembre\"]\n",
    "    \n",
    "    # strange case when a plant has two flowering periods\n",
    "    if (name2 == \"Aprsett\"):\n",
    "        return 4\n",
    "    ## strange case when the person has inserted strange month name\n",
    "    if (name1 == \"Apile\"):\n",
    "        name1 = \"Aprile\"\n",
    "    if (name1 == \"Giungo\"):\n",
    "        name1 = \"Giugno\"\n",
    "    if (name2 == \"Agoso\"):\n",
    "        name2 = \"Agosto\"\n",
    "    \"\"\"\n",
    "    Calculates the number of months between two months name\n",
    "    \"\"\"\n",
    "    return months.index(name2) - months.index(name1) + 1"
   ]
  },
  {
   "cell_type": "code",
   "execution_count": 4,
   "id": "da6389f4",
   "metadata": {},
   "outputs": [],
   "source": [
    "def get_score_sum(singular_species):\n",
    "    \n",
    "    \"\"\"\n",
    "    Calculates the summed-score of a plant, based on 8 relevant metrics.\n",
    "    \n",
    "    Source: http://csu.unipv.it/wp-content/uploads/2022/01/Tesi-Colombini.pdf\n",
    "    THE 8 RELEVANT METRICS ARE:\n",
    "    - Forma biologica\n",
    "    - Vistosità\n",
    "    - Durata del periodo di fioritura\n",
    "    - Presenza sul mercato di specie simili\n",
    "    - Aromaticità\n",
    "    - Tipo di impollinazione\n",
    "    - Allergenicità\n",
    "    - Tossicità\n",
    "    IMPORTANT: READ ABOUT EACH OF THE 8 METRICS.\n",
    "    THE METRICS VALUES IN EACH PLANT IS WRITTEN CORRECTLY (for example, if the plant is not\n",
    "    toxic its value is 1, viceversa it is 0...) SO WE DO NOT HAVE TO CONSIDER THEM DIFFERENTLY\n",
    "    \"\"\"\n",
    "    \n",
    "    #REFACTOR\n",
    "    overall = float(singular_species[\"FORMA BIOLOGICA\"])\n",
    "    if (singular_species[\"VISTOSITA'\"] == 1):\n",
    "        overall += 1\n",
    "    if (not pd.isna(singular_species[\"PRESENZA MERCATO\"])):\n",
    "        overall += 1\n",
    "    if (singular_species[\"IMPOLLINAZIONE\"] == 1):\n",
    "        overall += 1\n",
    "    if (singular_species[\"ALLERGENICITA’\"] == 1):\n",
    "        overall += 1\n",
    "    if (singular_species[\"TOSSICITA’\"] == 1):\n",
    "        overall += 1\n",
    "    if (singular_species[\"AROMATICA\"] == 1):\n",
    "        overall += 1\n",
    "        \n",
    "    \"\"\"\n",
    "    According to the Colombini thesis, if the \"PERIODO FIORITURA\" is \n",
    "    #  - 1/2 months: 1 point\n",
    "    #  - 3/4 months: 2 points\n",
    "    #  - more than 4 months: 3 points\n",
    "    \"\"\"\n",
    "    periodo_fioritura = str(singular_species['PERIODO FIORITURA']).replace(\".\", \"-\")\n",
    "    if ((\"ogni mese dell’anno\" in periodo_fioritura) or (\"Tutto l’anno\" in periodo_fioritura)):\n",
    "        overall += 3\n",
    "    else:\n",
    "        name1 = str(periodo_fioritura).split(\"-\")[0].capitalize().replace(\" \", \"\")\n",
    "        name2 = str(periodo_fioritura).split(\"-\")[1].capitalize().replace(\" \", \"\")\n",
    "        if (1 <= get_n_months_between_to_months_name(name1, name2) <= 2):\n",
    "            overall += 1\n",
    "        elif(3 <= get_n_months_between_to_months_name(name1, name2) <= 4):\n",
    "             overall += 2\n",
    "        else:\n",
    "            overall += 3\n",
    "    return overall"
   ]
  },
  {
   "cell_type": "code",
   "execution_count": 5,
   "id": "c4a79613",
   "metadata": {},
   "outputs": [],
   "source": [
    "def get_ornamental_index_value(singular_species):\n",
    "    \n",
    "    \"\"\"\n",
    "    Source: http://csu.unipv.it/wp-content/uploads/2022/01/Tesi-Colombini.pdf\n",
    "    Sommatoria dei punteggi compresa tra 2 e 5 inclusi: valore dell’indice 1.\n",
    "    Al range 6 - 9 inclusi: valore dell’indice 2. \n",
    "    Punteggio superiore a dieci: l’indice assegnato è 3. \n",
    "    \"\"\"\n",
    "    \n",
    "    score_sum = get_score_sum(singular_species)\n",
    "    if  2 <= score_sum <= 5:\n",
    "        return 1\n",
    "    elif 6 <= score_sum <= 9:\n",
    "        return 2\n",
    "    elif score_sum >= 10:\n",
    "        return 3"
   ]
  },
  {
   "cell_type": "markdown",
   "id": "a7bfa899",
   "metadata": {},
   "source": [
    "### Store the obtained json into our mongo-db istance online"
   ]
  },
  {
   "cell_type": "code",
   "execution_count": 6,
   "id": "29e57bd9",
   "metadata": {},
   "outputs": [],
   "source": [
    "def store_into_mongodb_istance(json_file):\n",
    "    # Making Connection (insert the online connection to MongoDb)\n",
    "    myclient = MongoClient(\"\") \n",
    "    # database \n",
    "    # names: OVE - Stands for Ornamental Value Estimation\n",
    "    db = myclient[\"OVE\"]\n",
    "    # Created or Switched to collection \n",
    "    # names: GeeksForGeeks\n",
    "    Collection = db[\"data\"]  \n",
    "    # Inserting the loaded data in the Collection\n",
    "    # if JSON contains data more than one entry\n",
    "    # insert_many is used else inser_one is used\n",
    "    if isinstance(json_file, list):\n",
    "        Collection.insert_many(json_file)  \n",
    "    else:\n",
    "        Collection.insert_one(json_file)"
   ]
  }
 ],
 "metadata": {
  "kernelspec": {
   "display_name": "Python 3 (ipykernel)",
   "language": "python",
   "name": "python3"
  },
  "language_info": {
   "codemirror_mode": {
    "name": "ipython",
    "version": 3
   },
   "file_extension": ".py",
   "mimetype": "text/x-python",
   "name": "python",
   "nbconvert_exporter": "python",
   "pygments_lexer": "ipython3",
   "version": "3.9.2"
  }
 },
 "nbformat": 4,
 "nbformat_minor": 5
}
