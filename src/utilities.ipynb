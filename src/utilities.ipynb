{
 "cells": [
  {
   "cell_type": "code",
   "execution_count": 1,
   "id": "4ca452b0-e61e-4669-9e92-84f8cfad7f12",
   "metadata": {},
   "outputs": [],
   "source": [
    "# I wasn't able to import functions from this notebook so I replaced it with a regular python module."
   ]
  },
  {
   "cell_type": "markdown",
   "id": "d8025a4d",
   "metadata": {},
   "source": [
    "## This notebook contains different functions in order to achieve specific goals"
   ]
  },
  {
   "cell_type": "markdown",
   "id": "6f943b0e-c13d-4064-887c-3b2433eb8c05",
   "metadata": {},
   "source": [
    "### Convert the dataset into json format:"
   ]
  },
  {
   "cell_type": "code",
   "execution_count": 1,
   "id": "69dafacf-1a9a-4384-a979-4b8f2c3d3341",
   "metadata": {},
   "outputs": [],
   "source": []
  },
  {
   "cell_type": "code",
   "execution_count": 2,
   "id": "b7223f9a",
   "metadata": {},
   "outputs": [],
   "source": []
  },
  {
   "cell_type": "markdown",
   "id": "c544ad6b",
   "metadata": {},
   "source": [
    "### Obtain ornamental score"
   ]
  },
  {
   "cell_type": "code",
   "execution_count": 3,
   "id": "4aafa38c",
   "metadata": {},
   "outputs": [],
   "source": []
  },
  {
   "cell_type": "code",
   "execution_count": 4,
   "id": "da6389f4",
   "metadata": {},
   "outputs": [],
   "source": []
  },
  {
   "cell_type": "code",
   "execution_count": 5,
   "id": "c4a79613",
   "metadata": {},
   "outputs": [],
   "source": []
  },
  {
   "cell_type": "code",
   "execution_count": 101,
   "id": "8d794e96-3f80-4196-bc8d-5dcde766f8a4",
   "metadata": {},
   "outputs": [],
   "source": []
  },
  {
   "cell_type": "code",
   "execution_count": 126,
   "id": "de552c88-0741-4381-9699-2a37a77f1147",
   "metadata": {},
   "outputs": [],
   "source": []
  },
  {
   "cell_type": "markdown",
   "id": "a7bfa899",
   "metadata": {},
   "source": [
    "### Store the obtained json into our mongo-db istance online"
   ]
  },
  {
   "cell_type": "code",
   "execution_count": 155,
   "id": "29e57bd9",
   "metadata": {},
   "outputs": [],
   "source": []
  },
  {
   "cell_type": "code",
   "execution_count": null,
   "id": "0b08552f-7223-4f19-812d-2f14cafc6e5e",
   "metadata": {},
   "outputs": [],
   "source": []
  }
 ],
 "metadata": {
  "kernelspec": {
   "display_name": "Python 3 (ipykernel)",
   "language": "python",
   "name": "python3"
  },
  "language_info": {
   "codemirror_mode": {
    "name": "ipython",
    "version": 3
   },
   "file_extension": ".py",
   "mimetype": "text/x-python",
   "name": "python",
   "nbconvert_exporter": "python",
   "pygments_lexer": "ipython3",
   "version": "3.8.10"
  }
 },
 "nbformat": 4,
 "nbformat_minor": 5
}
